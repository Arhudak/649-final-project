{
  "cells": [
    {
      "cell_type": "markdown",
      "metadata": {
        "id": "TsjT70bTBTCV"
      },
      "source": [
        "# Problem Set 10"
      ]
    },
    {
      "cell_type": "code",
      "execution_count": 2,
      "metadata": {},
      "outputs": [],
      "source": [
        "import numpy as np\n",
        "import pandas as pd\n",
        "from scipy.stats import pearsonr\n",
        "from sklearn.linear_model import LinearRegression\n",
        "import matplotlib.pyplot as plt\n",
        "from sklearn.metrics import r2_score\n",
        "from scipy.linalg import eig\n",
        "from scipy.stats import beta "
      ]
    },
    {
      "cell_type": "markdown",
      "metadata": {
        "id": "02CfOxNWzp9M"
      },
      "source": [
        "---\n",
        "## Question 1 (10 + 10 + 10)\n"
      ]
    },
    {
      "cell_type": "markdown",
      "metadata": {
        "id": "iWjoZBZ5ctrf"
      },
      "source": [
        "There are 100 students in a class. Their final grades are comprised of the following components: 25% problem sets; 25% quizes; 25% final exam; 25% final project.  \n",
        "\n",
        "|assignment_type|weight_in_grade|\n",
        "|---|---|\n",
        "|problem_sets|25%|\n",
        "|quizzes|25%|\n",
        "|final_exam|25%|\n",
        "|final_project|25%|\n",
        "\n",
        "\n",
        "Students can be either studious or quick. Each student has a studious parameter in $s \\in [0, 1]$ and a  quick parameter in $q \\in [0, 1]$\n",
        "\n",
        "- Each student's score on the problem sets is drawn i.i.d. from a binomial distribution with parameters $n=25$ and $p=.8 * s/5$.  \n",
        "\n",
        "- Each student's score on the final project is drawn i.i.d. from a binomial distribution with parameters $n=25$ and $p=.8 + s/10 + q/10$.\n",
        "\n",
        "- Each student's score on the quizzes is drawn i.i.d. from a binomial distribution with parameters $n=5$ and $p=4/5+ s/5$ and then multiplied by 5.  \n",
        "\n",
        "- Each student's score on the final exam is drawn i.i.d. from a binomial distribution with parameters $n=25$ and $p=3/5 + q/5 + s/5$.\n",
        "\n",
        "A students final score is the sum of their score on each element.  \n",
        "\n",
        "There are 100 students each with their parameters $q$ and $s$ are each drawn independently from a beta distribution with parameters alpha = 8 and beta = 2.\n",
        "\n"
      ]
    },
    {
      "cell_type": "markdown",
      "metadata": {
        "id": "DISdsVujcxZZ"
      },
      "source": [
        "i.  First, predict the following (without running any code)：\n",
        " - What will the Pearson correlations be between four scores (e.g. quiz score; the problem set score, etc.)  Do you think they will be the same or different?  Why?  (The important part here he to answer this before running code.\n",
        "\n",
        "  - What will the Pearson correlations be between the students' final score and each element of the grade?  (There are 4 predictions to make here: the correlation between the final grade and the quiz score; the correlation between the final grade and the problem set score, etc.)  Do you think they will be the same or different?  Why?  (The important part here he to answer this before running code.\n",
        "\n",
        "ii.  Run code to simulate the above situation with 100 students.  How correct were your prediction?  \n",
        "\n"
      ]
    },
    {
      "cell_type": "markdown",
      "metadata": {},
      "source": [
        "I predict:\n",
        "- the pearson correlations will be:\n",
        "I think they will be , because\n",
        "\n",
        "- The pearson correlations will be\n",
        "I think they will be , because "
      ]
    },
    {
      "cell_type": "code",
      "execution_count": 3,
      "metadata": {},
      "outputs": [
        {
          "name": "stdout",
          "output_type": "stream",
          "text": [
            "Pearson Correlation btw scores:\n",
            "\n",
            "               Problem Sets   Quizzes  Final Exam  Final Project\n",
            "Problem Sets       1.000000 -0.076466    0.030495       0.113045\n",
            "Quizzes           -0.076466  1.000000    0.088019       0.335777\n",
            "Final Exam         0.030495  0.088019    1.000000       0.259511\n",
            "Final Project      0.113045  0.335777    0.259511       1.000000\n",
            "\n",
            "Pearson Correlation btw scores and final grade:\n",
            "\n",
            "Problem Sets     0.432584\n",
            "Quizzes          0.649777\n",
            "Final Exam       0.600619\n",
            "Final Project    0.635574\n",
            "dtype: float64\n"
          ]
        }
      ],
      "source": [
        "def final_grades(s,q):\n",
        "\t'''\n",
        "\tCalculate final grades, based on the grade breakdown described above \n",
        "\n",
        "\tParameters\n",
        "\t----------\n",
        "\ts: float\n",
        "\t\tstudiousness\n",
        "\tq: float\n",
        "\t\tquickness\n",
        "\n",
        "\t'''\n",
        "\tproblemSet = np.random.binomial(25,(0.8*s)/5)\n",
        "\tquizzes = 5 * np.random.binomial(5,(4/5)+(s/5))\n",
        "\tfinalExam = np.random.binomial(25,(3/5)+(q/5)+(s/5))\n",
        "\tfinalProj = np.random.binomial(25, 0.8+(s/10)+(q/10))\n",
        "\treturn [problemSet, quizzes, finalExam, finalProj]\n",
        "\n",
        "def final(grades):\n",
        "\tfinal = 0.0\n",
        "\tfor grade in grades:\n",
        "\t\tfinal += (0.25*grade)\n",
        "\treturn final\n",
        "\n",
        "def corr_btw(students, method='pearson', alpha=8, beta=2):\t\n",
        "\t#asked chatgpt how to draw parameters from a beta distribution randomly\n",
        "\tnp.random.seed(42)\n",
        "\tsParam = np.random.beta(alpha,beta,size=students)\n",
        "\tqParam = np.random.beta(alpha,beta,size=students)\n",
        "\tparams = zip(sParam, qParam)\n",
        "\n",
        "\t#calc grades using the generates s and q parameters\n",
        "\tgrades_li = [final_grades(s,q) for s,q in params]\n",
        "\n",
        "\tscores = pd.DataFrame({\n",
        "\t'Problem Sets': [grades[0] for grades in grades_li],\n",
        "\t'Quizzes': [grades[1] for grades in grades_li],\n",
        "\t'Final Exam': [grades[2] for grades in grades_li],\n",
        "\t'Final Project': [grades[3] for grades in grades_li]\n",
        "\t})\n",
        "\n",
        "\t#used https://pandas.pydata.org/docs/reference/api/pandas.DataFrame.corr.html\n",
        "\tscore_corrs = scores.corr(method=method)\n",
        "\treturn score_corrs\n",
        "\n",
        "def corr_final(students, method='pearson', alpha=8, beta=2):\n",
        "\t#asked chatgpt how to draw parameters from a beta distribution randomly\n",
        "\tnp.random.seed(42)\n",
        "\tsParam = np.random.beta(alpha,beta,size=students)\n",
        "\tqParam = np.random.beta(alpha,beta,size=students)\n",
        "\tparams = zip(sParam, qParam)\n",
        "\n",
        "\t#calc grades using the generates s and q parameters\n",
        "\tgrades_li = [final_grades(s,q) for s,q in params]\n",
        "\tfinals = [final(grades) for grades in grades_li]\n",
        "\n",
        "\tscores = pd.DataFrame({\n",
        "\t'Problem Sets': [grades[0] for grades in grades_li],\n",
        "\t'Quizzes': [grades[1] for grades in grades_li],\n",
        "\t'Final Exam': [grades[2] for grades in grades_li],\n",
        "\t'Final Project': [grades[3] for grades in grades_li]\n",
        "\t})\n",
        "\n",
        "\t#asked chatgpt how to find correlation between dataframe and series, suggested.corrwith(), and then also\n",
        "\t#used https://pandas.pydata.org/docs/reference/api/pandas.DataFrame.corrwith.html\n",
        "\tfinal_corrs = scores.corrwith(pd.Series(finals), method=method)\n",
        "\treturn final_corrs\n",
        "\n",
        "print(f\"Pearson Correlation btw scores:\\n\\n{corr_btw(100)}\\n\\nPearson Correlation btw scores and final grade:\\n\\n{corr_final(100)}\")"
      ]
    },
    {
      "cell_type": "markdown",
      "metadata": {
        "id": "xOB0xzxEFeSC"
      },
      "source": [
        "* Do the following 1000 times:\n",
        "  - Simulate the students' score and calculate the correlation between the students' final score and each component.\n",
        "\n",
        "  - Was your prediction correct?  Come up with an intuitive explaination for the results.  "
      ]
    },
    {
      "cell_type": "code",
      "execution_count": 4,
      "metadata": {},
      "outputs": [
        {
          "name": "stdout",
          "output_type": "stream",
          "text": [
            "Correlation btw final score and each component:\n",
            "\n",
            "Problem Sets     0.565589\n",
            "Quizzes          0.676973\n",
            "Final Exam       0.507370\n",
            "Final Project    0.410890\n",
            "dtype: float64\n"
          ]
        }
      ],
      "source": [
        "scores_corr_with_final = corr_final(1000)\n",
        "print(f\"Correlation btw final score and each component:\\n\\n{scores_corr_with_final}\")"
      ]
    },
    {
      "cell_type": "markdown",
      "metadata": {},
      "source": [
        "********* was i correct? my intuitive explanation"
      ]
    },
    {
      "cell_type": "markdown",
      "metadata": {
        "id": "R_ftQJ5Ug4gp"
      },
      "source": [
        "\n",
        "* Now consider the matrix $A$ where each row is a student and each column is the score on one of the components.  \n",
        "i. (Before running code)  Why might you predict that the first two singular values the SVD decomposition are much larger than the next two?  \n",
        "\n",
        "ii.  Now run the SDV decomposition.  Try to figure out what the first two left singular vectors (with 100 values) are encoding in two ways.  First, try to analyze the left singular values (with 4 entrys).  Second by use linear regression.   First, use the singular values as inputs and try to predcit $q$.  What do you notice?  Second use the singular values as inputs and try to predcit $s$.  What do you notices?\n",
        "\n"
      ]
    },
    {
      "cell_type": "markdown",
      "metadata": {},
      "source": [
        "The first two singular values being much larger than the next two indicates that they capture more of the variability than the next two singular values. This would indicate that the problem sets and quizzes are responsible for more of the variability than the final project and the final exam. Logically, this is because the problem sets and quizzes are made up of many separate assignments, for the same percentage as the singular project and the exam, and this means that scores can vary more because they are composite of multiple other scores. "
      ]
    },
    {
      "cell_type": "code",
      "execution_count": 9,
      "metadata": {},
      "outputs": [
        {
          "name": "stdout",
          "output_type": "stream",
          "text": [
            "Singular values, first 4 entries:\n",
            "\n",
            "[410.90302551  18.7062638   16.06167139  11.08160772]\n",
            "\n",
            "Predictions for Q:\n",
            "\n",
            "[[0.83734912]\n",
            " [0.78907187]\n",
            " [0.81324432]\n",
            " [0.79522274]\n",
            " [0.78313652]]\n",
            "\n",
            "Predictions for S:\n",
            "\n",
            "[[0.85506971]\n",
            " [0.79367456]\n",
            " [0.82428768]\n",
            " [0.80187202]\n",
            " [0.78656546]]\n"
          ]
        }
      ],
      "source": [
        "np.random.seed(42)\n",
        "sParam = beta.rvs(a=8,b=2,size=100)\n",
        "qParam = beta.rvs(a=8,b=2,size=100)\n",
        "params = zip(sParam, qParam)\n",
        "\n",
        "grades = [final_grades(s,q) for s,q in params]\n",
        "A = np.array(grades)\n",
        "\n",
        "#asked chatgpt and used https://numpy.org/doc/stable/reference/generated/numpy.linalg.svd.html to do svd\n",
        "U, S, Vt = np.linalg.svd(A, full_matrices=False)\n",
        "\n",
        "#first two vectors \n",
        "vectors = U[:,:2]\n",
        "\n",
        "#analyze with the singular values as inputs\n",
        "print(f\"Singular values, first 4 entries:\\n\\n{S[:4]}\")\n",
        "\n",
        "#pred q\n",
        "q = LinearRegression().fit(vectors, qParam.reshape(-1,1))\n",
        "predq = q.predict(vectors)\n",
        "\n",
        "#preds\n",
        "s = LinearRegression().fit(vectors, sParam.reshape(-1,1))\n",
        "preds = s.predict(vectors)\n",
        "\n",
        "print(f\"\\nPredictions for Q:\\n\\n{predq[:5]}\")\n",
        "print(f\"\\nPredictions for S:\\n\\n{preds[:5]}\")\n",
        "\n",
        "\n"
      ]
    },
    {
      "cell_type": "markdown",
      "metadata": {},
      "source": [
        "what do i notice:"
      ]
    },
    {
      "cell_type": "markdown",
      "metadata": {
        "id": "FVsJeBhVhYhs"
      },
      "source": [
        "iii.\n",
        "\n",
        "* Now change the model in a non-trivial way.  (For example, make the students have different abilities/study habits/experience.)  \n",
        "  - In your new model explain how one of the elements above changed."
      ]
    },
    {
      "cell_type": "code",
      "execution_count": null,
      "metadata": {},
      "outputs": [],
      "source": []
    },
    {
      "cell_type": "markdown",
      "metadata": {
        "id": "7jgIK13SfMf5"
      },
      "source": [
        "---\n",
        "\n",
        "## PageRank (5 + 10)"
      ]
    },
    {
      "cell_type": "markdown",
      "metadata": {
        "id": "TKAn36xlsM3A"
      },
      "source": [
        "Assume we have 5 webpages, called A, B, C, D, E, and you want to use PageRank to analyze their importance. For now, we know that each website has the following links.\n",
        "\n",
        "- A links to B and E.\n",
        "- B links to C.\n",
        "- C links to D\n",
        "- D links to A, B, E\n",
        "- E links to A, D\n",
        "\n",
        "After each period, one may stay on the website or click one of the link with equal chance. So if you're at A, then there is 1/3 probability that you'll stay at A for another perior, or goto B or E.\n",
        "\n",
        "1. What's corresponding transition matrix $M$.  If we use a dampening factor of $0.6$ what is the corresponding transition matrix used in PageRank?"
      ]
    },
    {
      "cell_type": "code",
      "execution_count": 26,
      "metadata": {},
      "outputs": [
        {
          "name": "stdout",
          "output_type": "stream",
          "text": [
            "Original Matrix:\n",
            "\n",
            "[[0.   0.5  0.   0.   0.5 ]\n",
            " [0.   0.   1.   0.   0.  ]\n",
            " [0.   0.   0.   1.   0.  ]\n",
            " [0.33 0.33 0.   0.   0.33]\n",
            " [0.5  0.   0.   0.5  0.  ]]\n",
            "\n",
            "PageRank transition matrix:\n",
            "\n",
            "[[0.08  0.38  0.08  0.08  0.38 ]\n",
            " [0.08  0.08  0.68  0.08  0.08 ]\n",
            " [0.08  0.08  0.08  0.68  0.08 ]\n",
            " [0.278 0.278 0.08  0.08  0.278]\n",
            " [0.38  0.08  0.08  0.38  0.08 ]]\n"
          ]
        }
      ],
      "source": [
        "#matrix with probabilities of transitioning to next page,\n",
        "#rows go ABCDE and columns go ABCDE \n",
        "M = np.array([\n",
        "\t[0,0.5,0,0,0.5],\n",
        "\t[0,0,1,0,0],\n",
        "\t[0,0,0,1,0],\n",
        "\t[0.33, 0.33, 0,0,0.33],\n",
        "\t[0.5,0,0,0.5,0]\n",
        "])\n",
        "\n",
        "dampening = 0.6\n",
        "\n",
        "#asked chatgpt how to make the transition matrix used in PageRank\n",
        "N = M.shape[0]\n",
        "\n",
        "M_PR = (1-dampening) * (1/N) + dampening * M\n",
        "\n",
        "print(f\"Original Matrix:\\n\\n{M}\\n\\nPageRank transition matrix:\\n\\n{M_PR}\")"
      ]
    },
    {
      "cell_type": "markdown",
      "metadata": {
        "id": "W-U0K1cxxzNW"
      },
      "source": [
        "2. What's the Page Rank of each website? Briefly explain why we can use eigenvector/eigenvalue to find the Page Rank.\n"
      ]
    },
    {
      "cell_type": "code",
      "execution_count": 39,
      "metadata": {},
      "outputs": [
        {
          "name": "stdout",
          "output_type": "stream",
          "text": [
            "PageRank of A: 0.18571817275824934\n",
            "PageRank of B: 0.18571817275824917\n",
            "PageRank of C: 0.19171977824004488\n",
            "PageRank of D: 0.2511257034852074\n",
            "PageRank of E: 0.18571817275824914\n"
          ]
        }
      ],
      "source": [
        "eigenvalues, eigenvectors = np.linalg.eig(M_PR.T)\n",
        "idx = np.argmax(eigenvalues.real)\n",
        "\n",
        "pagerank = np.abs(eigenvectors[:,idx])\n",
        "pagerank /= np.sum(pagerank)\n",
        "\n",
        "for i, page in enumerate(['A','B','C','D','E']):\n",
        "    print(f\"PageRank of {page}: {pagerank[i]}\")\n",
        "\n"
      ]
    },
    {
      "cell_type": "markdown",
      "metadata": {},
      "source": [
        "we can use eigen vectors and eigenvalues to find the Page Rank because the page rank represents the relative importance of the webpage in the network of webpages based on how often they're visited. The eigenvector of a page gives the probability of being on the page (aka the pagerank score), and you can determine this number by determining the eigenvector that corresponds to the largest eigenvalue of the transition matrix. "
      ]
    },
    {
      "cell_type": "markdown",
      "metadata": {
        "id": "aNHcryI9ahKd"
      },
      "source": [
        "---\n",
        "\n",
        "## Network clustering (5 + 5 + 5 + 5)"
      ]
    },
    {
      "cell_type": "markdown",
      "metadata": {
        "id": "DL_s22NZahKe"
      },
      "source": [
        "1.  Write a function to create an adjacency matrix $M$ of an undirected graph made of $n=10$ vertices from two clusters of the same size. Assume the first $n/2$ vertices are in cluster $A$ and the rest vertices are in cluster $B$. Given two points $i$ and $j$, if they're from the same cluster, then there will be a probability of $p$ that there will be an edge from $i$ to $j$ so $M_{ij}=1$, and if they're from different clusters, then the probability is $1−p$. Note $M_{ii}$ should always be $1$."
      ]
    },
    {
      "cell_type": "code",
      "execution_count": 11,
      "metadata": {
        "id": "o19EiXF7ahKe"
      },
      "outputs": [
        {
          "data": {
            "text/plain": [
              "array([[1, 1, 1, 0, 1, 0, 0, 0, 0, 0],\n",
              "       [1, 1, 1, 1, 1, 0, 0, 0, 0, 0],\n",
              "       [1, 1, 1, 1, 1, 1, 1, 0, 0, 0],\n",
              "       [0, 1, 1, 1, 1, 0, 0, 0, 0, 0],\n",
              "       [1, 1, 1, 1, 1, 0, 0, 0, 0, 0],\n",
              "       [0, 0, 1, 0, 0, 1, 0, 1, 1, 1],\n",
              "       [0, 0, 1, 0, 0, 0, 1, 1, 1, 1],\n",
              "       [0, 0, 0, 0, 0, 1, 1, 1, 1, 1],\n",
              "       [0, 0, 0, 0, 0, 1, 1, 1, 1, 1],\n",
              "       [0, 0, 0, 0, 0, 1, 1, 1, 1, 1]])"
            ]
          },
          "execution_count": 11,
          "metadata": {},
          "output_type": "execute_result"
        }
      ],
      "source": [
        "def build_matrix(n: int, p: float) -> np.array:\n",
        "  \"\"\"Build the adjancy matrix\n",
        "\n",
        "  Args:\n",
        "    n (int): The number of vertices, should be even\n",
        "    p (float): The probability that an edge will be generated from one point to another within a cluster\n",
        "  \"\"\"\n",
        "  #asked chat gpt for help, gave it the question and function definition, then went through and commented/ made sure I understood code\n",
        "  #initialize matrix with 0\n",
        "  M = np.zeros((n,n), dtype=int)\n",
        "  #iterate rows\n",
        "  for i in range(n):\n",
        "    #iterates over columns, avoids 2nd half of matrix (symmetric, would be redundant)\n",
        "    for j in range(i+1, n):\n",
        "      #makes sure in the same cluster (< n/2 is cluster A, else cluster B)\n",
        "      if (i < n//2 and j < n//2) or (i >= n//2 and j >= n//2):\n",
        "        #uses prob p to determine if its edge or not\n",
        "        M[i,j] = 1 if np.random.random() < p else 0\n",
        "      else:\n",
        "        #uses prob p-1 to determine if its an edge or not \n",
        "        M[i,j] = 1 if np.random.random() < (1-p) else 0\n",
        "      #symmetric matrix, fills in second half of matrix we aren't iterating over\n",
        "      M[j,i] = M[i,j]\n",
        "  #fill diag, because its 1 on diag bc its connected to itself\n",
        "  np.fill_diagonal(M,1)\n",
        "  return M\n",
        "\n",
        "\n",
        "\n",
        "matrix = build_matrix(n=10, p=0.9)\n",
        "matrix"
      ]
    },
    {
      "cell_type": "markdown",
      "metadata": {
        "id": "UR81p6gMahKe"
      },
      "source": [
        "2. Use spectral clustering to label the clusters when $n=10$ and $p=0.75$. To implement spectral clustering, you should first find out the eigen vector $v$ corresponding to the second largest real eigen value for your adjacency matrix $M$. Based on your eigen vector, if its i-th elements is larger than the median, then it belongs to one cluster, and vice versa. Give us your labels"
      ]
    },
    {
      "cell_type": "code",
      "execution_count": 12,
      "metadata": {},
      "outputs": [
        {
          "name": "stdout",
          "output_type": "stream",
          "text": [
            "Cluster labels:\n",
            "[1 1 1 1 1 0 0 0 0 0]\n"
          ]
        }
      ],
      "source": [
        "def spectral_clust(adj_matrix):\n",
        "\t'''\n",
        "\tSpectral clustering to label the clusters\n",
        "\n",
        "\tParameters\n",
        "\t----------\n",
        "\tadj_matrix: np.array\n",
        "\t\tmatrix to be labeled\n",
        "\n",
        "\t'''\n",
        "\t#find eigenvectors and eigenvalues\n",
        "\teigenvalues, eigenvectors = eig(adj_matrix)\n",
        "\t#idx of second largest real eigenvalue\n",
        "\tsecondidx = np.argsort(eigenvalues.real)[-2]\n",
        "\t#eigenvector corresponding to second largest real eigenvalue\n",
        "\tsecondeigenvector = eigenvectors[:, secondidx]\n",
        "\t#find median of eigenvector\n",
        "\tmedian = np.median(secondeigenvector)\n",
        "\t#label with 1 where element is larger than median, else 0\n",
        "\tlabels = np.where(secondeigenvector > median, 1,0)\n",
        "\treturn labels\n",
        "\n",
        "matrix = build_matrix(n=10, p=0.75)\n",
        "labels = spectral_clust(matrix)\n",
        "print(f\"Cluster labels:\\n{labels}\")\n"
      ]
    },
    {
      "cell_type": "markdown",
      "metadata": {
        "id": "6R4xwM2LahKe"
      },
      "source": [
        "3. Implement a function to calculate the Jaccard Similarity between the ground truth and your predictions. There are two clusters from the ground truth, and two clusters from your predictions, but you just need to give us the largest Jaccard Similarity from these 4 pairs. Run the function on your previous predicitons"
      ]
    },
    {
      "cell_type": "code",
      "execution_count": 54,
      "metadata": {},
      "outputs": [],
      "source": [
        "def jaccard_sim(labels,pred_labels):\n",
        "\t'''\n",
        "\tcalculate jaccard similarity between ground truth and predictions\n",
        "\n",
        "\tParameters\n",
        "\t----------\n",
        "\tlabels: \n",
        "\t'''\n",
        "\tmax_sim = 0.0\n",
        "\t#iterates over 0 and 1\n",
        "\tfor i in range(2):\n",
        "\t\t#also iterates over 0 and 1\n",
        "\t\tfor j in range(2):\n",
        "\t\t\tintersect = len(np.intersect1d(np.where(labels == 1)[0], np.where(pred_labels == j)[0]))\n",
        "\t\t\tunion = len(np.union1d(np.where(labels == i)[0], np.where(pred_labels == j)[0]))\n",
        "\t\t\tjaccard = intersect/union if union != 0 else 0.0\n",
        "\t\t\tmax_sim = max(max_sim, jaccard)\n",
        "\treturn max_sim\n",
        "\n",
        "#run function on previous predictions"
      ]
    },
    {
      "cell_type": "markdown",
      "metadata": {
        "id": "TTxGVypYahKf"
      },
      "source": [
        "4. Calculate the Jaccard Similarity when $n=100$, $p$ in $[0.5, 0.51, 0.53, 0.55, 0.6, 0.65, 0.7, 0.75, 0.9, 1]$ through spectral clustering."
      ]
    },
    {
      "cell_type": "code",
      "execution_count": 55,
      "metadata": {},
      "outputs": [
        {
          "name": "stdout",
          "output_type": "stream",
          "text": [
            "Jaccard Sim Score for p=0.5: 0.35135135135135137\n",
            "\n",
            "\n",
            "Jaccard Sim Score for p=0.51: 0.3888888888888889\n",
            "\n",
            "\n",
            "Jaccard Sim Score for p=0.53: 0.42857142857142855\n",
            "\n",
            "\n",
            "Jaccard Sim Score for p=0.55: 0.7543859649122807\n",
            "\n",
            "\n",
            "Jaccard Sim Score for p=0.6: 0.8518518518518519\n",
            "\n",
            "\n",
            "Jaccard Sim Score for p=0.65: 1.0\n",
            "\n",
            "\n",
            "Jaccard Sim Score for p=0.7: 1.0\n",
            "\n",
            "\n",
            "Jaccard Sim Score for p=0.75: 1.0\n",
            "\n",
            "\n",
            "Jaccard Sim Score for p=0.9: 1.0\n",
            "\n",
            "\n",
            "Jaccard Sim Score for p=1: 1.0\n",
            "\n",
            "\n"
          ]
        }
      ],
      "source": [
        "n= 100\n",
        "ps = [0.5, 0.51, 0.53, 0.55, 0.6, 0.65, 0.7, 0.75, 0.9, 1]\n",
        "\n",
        "jsim_res = {}\n",
        "\n",
        "for p in ps:\n",
        "\tmatrix = build_matrix(n,p)\n",
        "\tpred_labels = spectral_clust(matrix)\n",
        "\tlabels = np.concatenate((np.zeros(n//2), np.ones(n//2))).astype(int)\n",
        "\tj_sim = jaccard_sim(labels, pred_labels)\n",
        "\tjsim_res[p] = j_sim\n",
        "\n",
        "for p, score in jsim_res.items():\n",
        "\tprint(f\"Jaccard Sim Score for p={p}: {score}\\n\\n\")\n"
      ]
    },
    {
      "cell_type": "markdown",
      "metadata": {
        "id": "ib4rNd5-BrG-"
      },
      "source": [
        "---\n",
        "\n",
        "## Linear Regression (5 + 5 + 5)\n",
        "\n",
        "(1) You are given as inputs the length, width, and height of cardboard boxes full with textbooks and are trying to predict the weight of the box.\n",
        "\n",
        "Do you expect linear regression with the input features to work well? Why? If not, how to make linear regression work in this case.\n",
        "\n",
        "(2) Shengwei notice that the length and width are in inches while the height is in centimeters, do you think this will influence the result of linear regression?"
      ]
    },
    {
      "cell_type": "markdown",
      "metadata": {},
      "source": [
        "1. I don't think that linear regression will work well in this case, as the inputs to the model will not help a lot to predict weight. The weight of the box does not only depend on the volume (which we can easily predict from these inputs) but also the material of the box, the density, the thickness, etc. So we would need more information like this to predict the weight of the box well. \n",
        "\n",
        "2. Yes this will influence the linear regression. Having inputs in different scales will be confusing for the model/ it will assume that all the features are in the same scale so it will inaccurately represent the height in relation to the length and width. The difference in units will make the inputs be inaccurately handled, and will lead the output of the model to be inaccurate. "
      ]
    },
    {
      "cell_type": "markdown",
      "metadata": {
        "id": "N_mCGVjy0kws"
      },
      "source": [
        "(3) Now run a simple linear regression on the data, and investigate its performance. Note that this question has multiple parts.\n",
        "\n",
        "First you need to run the following block, which sets up the datasets to be used for this question.\n"
      ]
    },
    {
      "cell_type": "code",
      "execution_count": 28,
      "metadata": {
        "id": "KeWxn5MC0j9v"
      },
      "outputs": [],
      "source": [
        "import numpy as np\n",
        "\n",
        "# We fix the state of the random number generator here in order to maintain consistency in the results\n",
        "rs = np.random.RandomState(0)\n",
        "X = rs.uniform(size = (100, 1))\n",
        "y = 5 * X + rs.normal(size = (100, 1)) + 2"
      ]
    },
    {
      "cell_type": "markdown",
      "metadata": {
        "id": "91EIn_qg0_tR"
      },
      "source": [
        "Now, write a function that takes in training data as input, and fits a line to the data using a linear regression model. Your function should return the linear regression model."
      ]
    },
    {
      "cell_type": "code",
      "execution_count": 31,
      "metadata": {
        "id": "cTEJg36b1CH5"
      },
      "outputs": [],
      "source": [
        "def fit_line(X_train, y_train):\n",
        "    from sklearn.linear_model import LinearRegression\n",
        "\n",
        "    linreg = LinearRegression()\n",
        "    linreg.fit(X_train, y_train)\n",
        "\n",
        "    # Return the linear regression model you created\n",
        "    return linreg"
      ]
    },
    {
      "cell_type": "markdown",
      "metadata": {
        "id": "QbaieQ821GW4"
      },
      "source": [
        "Run the following block of code in order to (1) compute the the $R^2$ (coefficient of determination) regression score on the dataset, and then (2) plot the dataset and the regression line in the figure."
      ]
    },
    {
      "cell_type": "code",
      "execution_count": 34,
      "metadata": {
        "id": "xAP3OAZ51EHq"
      },
      "outputs": [
        {
          "name": "stdout",
          "output_type": "stream",
          "text": [
            "R2 score: 0.6711924461927896\n"
          ]
        },
        {
          "data": {
            "image/png": "[encoded data removed]",
            "text/plain": [
              "<Figure size 640x480 with 1 Axes>"
            ]
          },
          "metadata": {},
          "output_type": "display_data"
        }
      ],
      "source": [
        "# Fit a line to the dataset we generated at the beginning of this problem using your function\n",
        "linreg = fit_line(X,y)\n",
        "y_pred = linreg.predict(X)\n",
        "\n",
        "# Compute R^2 score of your model on dataset\n",
        "r2 = r2_score(y,y_pred)\n",
        "print(f\"R2 score: {r2}\")\n",
        "\n",
        "# Plot the training and test datasets in the same figure marked by different colors\n",
        "plt.scatter(X, y, color='blue', label='Training Data')\n",
        "plt.plot(X, y_pred, color='red', label='Fitted Line')\n",
        "plt.xlabel('X')\n",
        "plt.ylabel('y')\n",
        "plt.title('Fitted Line to the Dataset')\n",
        "plt.legend()\n",
        "plt.show()"
      ]
    },
    {
      "cell_type": "markdown",
      "metadata": {
        "id": "YdWqnDwGBxZD"
      },
      "source": [
        "---\n",
        "\n",
        "## Logistic Regression and Bayesian Theorem (20)\n",
        "\n",
        "In this question, we will go step by step to get logistic regression with Bayesian Theorem.\n",
        "\n",
        "$Y$ is 0-1 random variable, following a Bernoulli distribution, with parameter $p=P(Y=1)$\n",
        "\n",
        "$X=(X_1 ... X_n)$,where each $X_i$ is a continuous random variable in $\\mathbb{R}$\n",
        "\n",
        "Our goal is to compute $P(Y=1|X)$"
      ]
    },
    {
      "cell_type": "markdown",
      "metadata": {
        "id": "VLySGYrxnxrL"
      },
      "source": [
        "**For better understanding, we give the answers to the first 6 questions, but you are still required to understand the answers clearly, and then finish last 2 questions.**"
      ]
    },
    {
      "cell_type": "markdown",
      "metadata": {
        "id": "0btRa4BFQBsy"
      },
      "source": [
        "**Question 1**\n",
        "\n",
        "Applying Bayes rule and law of total probability, use $P(X|Y=1),P(X|Y=0),P(Y=1),P(Y=0)$ to represent $P(Y=1|X)$"
      ]
    },
    {
      "cell_type": "markdown",
      "metadata": {
        "id": "NbppAioqQnRu"
      },
      "source": [
        "**Answer 1**\n",
        "\n",
        "$P(Y=1 \\mid X)=\\frac{P(Y=1) P(X \\mid Y=1)}{P(Y=1) P(X \\mid Y=1)+P(Y=0) P(X \\mid Y=0)}$"
      ]
    },
    {
      "cell_type": "markdown",
      "metadata": {
        "id": "Ttoqq5ohSYcc"
      },
      "source": [
        "**Question 2**\n",
        "\n",
        "You may find there are two same items on both denominator and numerator. Divide both denominator and numerator by it."
      ]
    },
    {
      "cell_type": "markdown",
      "metadata": {
        "id": "i0_HpMSWS0RO"
      },
      "source": [
        "**Answer 2**\n",
        "\n",
        "$P(Y=1 \\mid X)=\\frac{1}{1+\\frac{P(Y=0) P(X \\mid Y=0)}{P(Y=1) P(X \\mid Y=1)}}$"
      ]
    },
    {
      "cell_type": "markdown",
      "metadata": {
        "id": "DXiwzQB0S8k3"
      },
      "source": [
        "**Question 3**\n",
        "\n",
        "We now foucs on the $\\frac{P(Y=0) P(X \\mid Y=0)}{P(Y=1) P(X \\mid Y=1)}$.\n",
        "\n",
        "We make the first key assumption.\n",
        "\n",
        "> For all $i$ and $j\\neq i$, $X_i$ and $X_j$ are conditionally independent given $Y$, which means $P(X_i,X_j|Y) = P(X_i|Y)P(X_j|Y)$\n",
        "\n",
        "Please show why $\\frac{P(Y=0) P(X \\mid Y=0)}{P(Y=1) P(X \\mid Y=1)} = \\exp \\left(\\ln \\frac{1-p}{p}+\\sum_i \\ln \\frac{P\\left(X_i \\mid Y=0\\right)}{P\\left(X_i \\mid Y=1\\right)}\\right)$\n"
      ]
    },
    {
      "cell_type": "markdown",
      "metadata": {
        "id": "wQFceaaVTwD8"
      },
      "source": [
        "**Answer 3**\n",
        "\n",
        "Take log to make multiplication summation"
      ]
    },
    {
      "cell_type": "markdown",
      "metadata": {
        "id": "YyYSnGNMUJGT"
      },
      "source": [
        "**Question 4**\n",
        "\n",
        "We now focus on each $\\ln\\frac{P\\left(X_i \\mid Y=0\\right)}{P\\left(X_i \\mid Y=1\\right)}$.\n",
        "\n",
        "We make the second key assumption:\n",
        "\n",
        "\n",
        "> For each $X_i$, $P(X_i|Y=0)$ follows a normal distribution $N(\\mu_{i0},\\sigma_i)$ and $P(X_i|Y=1)$ follows a normal distribution $N(\\mu_{i1},\\sigma_i)$\n",
        "\n",
        "Substitute $P\\left(X_i \\mid Y=0\\right)$ and $P\\left(X_i \\mid Y=1\\right)$ with the pdf of normal distribution, and simplify $\\ln\\frac{P\\left(X_i \\mid Y=0\\right)}{P\\left(X_i \\mid Y=1\\right)}$.\n",
        "\n",
        "\n",
        "\n",
        "\n"
      ]
    },
    {
      "cell_type": "markdown",
      "metadata": {
        "id": "8H4l8iDRVm5_"
      },
      "source": [
        "**Answer 4**\n",
        "\n",
        "$\\begin{aligned} \\ln \\frac{P\\left(X_i \\mid Y=0\\right)}{P\\left(X_i \\mid Y=1\\right)} & = \\ln \\frac{\\frac{1}{\\sqrt{2 \\pi \\sigma_i^2}} \\exp \\left(\\frac{-\\left(X_i-\\mu_{i 0}\\right)^2}{2 \\sigma_i^2}\\right)}{\\frac{1}{\\sqrt{2 \\pi \\sigma_i^2}} \\exp \\left(\\frac{-\\left(X_i-\\mu_{i 1}\\right)^2}{2 \\sigma_i^2}\\right)} \\\\ & = \\ln \\exp \\left(\\frac{\\left(X_i-\\mu_{i 1}\\right)^2-\\left(X_i-\\mu_{i 0}\\right)^2}{2 \\sigma_i^2}\\right) \\\\\n",
        "& =\\frac{\\left(X_i-\\mu_{i 1}\\right)^2-\\left(X_i-\\mu_{i 0}\\right)^2}{2 \\sigma_i^2}\\\\\n",
        "& =\\frac{\\left(X_i^2-2 X_i \\mu_{i 1}+\\mu_{i 1}^2\\right)-\\left(X_i^2-2 X_i \\mu_{i 0}+\\mu_{i 0}^2\\right)}{2 \\sigma_i^2} \\\\\n",
        "& =\\frac{2 X_i\\left(\\mu_{i 0}-\\mu_{i 1}\\right)+\\mu_{i 1}^2-\\mu_{i 0}^2}{2 \\sigma_i^2} \\\\\n",
        "& =\\frac{\\mu_{i 0}-\\mu_{i 1}}{\\sigma_i^2} X_i+\\frac{\\mu_{i 1}^2-\\mu_{i 0}^2}{2 \\sigma_i^2}\\end{aligned}$\n"
      ]
    },
    {
      "cell_type": "markdown",
      "metadata": {
        "id": "pUkAJ362Vova"
      },
      "source": [
        "**Question 5**\n",
        "\n",
        "This step could be hard, so I will give you the correct answer to check.\n",
        "\n",
        "$\\ln\\frac{P\\left(X_i \\mid Y=0\\right)}{P\\left(X_i \\mid Y=1\\right)} = \\frac{\\mu_{i 0}-\\mu_{i 1}}{\\sigma_i^2} X_i+\\frac{\\mu_{i 1}^2-\\mu_{i 0}^2}{2 \\sigma_i^2}$\n",
        "\n",
        "Then put everything together, see what can $P(Y=1 \\mid X)=\\frac{1}{1+\\frac{P(Y=0) P(X \\mid Y=0)}{P(Y=1) P(X \\mid Y=1)}}$ be simplified now."
      ]
    },
    {
      "cell_type": "markdown",
      "metadata": {
        "id": "wZjlGPQVW4XB"
      },
      "source": [
        "**Answer 5**\n",
        "\n",
        "$P(Y=1 \\mid X)=\\frac{1}{1+\\exp \\left(\\ln \\frac{1-p}{p}+\\sum_i\\left(\\frac{\\mu_{i 0}-\\mu_{i 1}}{\\sigma_i^2} X_i+\\frac{\\mu_{i 1}^2-\\mu_{i 0}^2}{2 \\sigma_i^2}\\right)\\right)}$"
      ]
    },
    {
      "cell_type": "markdown",
      "metadata": {
        "id": "Uj73bZ6VXRes"
      },
      "source": [
        "**Question 6**\n",
        "\n",
        "Recall that in logistic regress, we have\n",
        "\n",
        "$P(Y=1 \\mid X)=\\frac{1}{1+\\exp \\left(w_0+\\sum_{i=1}^n w_i X_i\\right)}$\n",
        "\n",
        "Can you find what $w_0$ and $w_i$ are, in terms of $\\mu_{i0},\\mu_{i1},\\sigma_i$ and $p$?\n"
      ]
    },
    {
      "cell_type": "markdown",
      "metadata": {
        "id": "zn9dSPGgX5Bb"
      },
      "source": [
        "**Answer 6**\n",
        "\n",
        "$\\begin{gathered}w_i=\\frac{\\mu_{i 0}-\\mu_{i 1}}{\\sigma_i^2} \\\\ w_0=\\ln \\frac{1-p}{p}+\\sum_i \\frac{\\mu_{i 1}^2-\\mu_{i 0}^2}{2 \\sigma_i^2}\\end{gathered}$"
      ]
    },
    {
      "cell_type": "markdown",
      "metadata": {
        "id": "CphtR1BxYZKY"
      },
      "source": [
        "**Question 7**\n",
        "\n",
        "Given this process, in which case you think the logistic regression will work well, and in which case it won't."
      ]
    },
    {
      "cell_type": "markdown",
      "metadata": {
        "id": "6zzr5a9m4aGV"
      },
      "source": [
        "**Question 8**\n",
        "\n",
        "Let's verify our findings with some synthetic data. We provide a data generator as following. Note that the size of each class is the same, implying $p=0.5$."
      ]
    },
    {
      "cell_type": "code",
      "execution_count": 35,
      "metadata": {
        "colab": {
          "base_uri": "https://localhost:8080/",
          "height": 472
        },
        "id": "VwyMTZur4qHk",
        "outputId": "194b7663-0eeb-4a21-88f5-9aa928295146"
      },
      "outputs": [
        {
          "data": {
            "image/png": "[encoded data removed]",
            "text/plain": [
              "<Figure size 640x480 with 1 Axes>"
            ]
          },
          "metadata": {},
          "output_type": "display_data"
        }
      ],
      "source": [
        "import numpy as np\n",
        "import matplotlib.pyplot as plt\n",
        "from sklearn.datasets import make_classification\n",
        "from sklearn.linear_model import LogisticRegression\n",
        "from sklearn.model_selection import train_test_split\n",
        "from sklearn.metrics import accuracy_score\n",
        "from matplotlib.colors import ListedColormap\n",
        "\n",
        "# DO NOT MODIFY: Generate a synthetic binary classification dataset with 2 features\n",
        "X, y = make_classification(n_samples=100, n_features=2, n_redundant=0, n_clusters_per_class=1, flip_y=0, random_state=8)\n",
        "X[y==1] = X[y==1]*1.4\n",
        "X = X + 3\n",
        "\n",
        "scatter = plt.scatter(X[:, 0], X[:, 1], c=y, edgecolor='k', s=20)\n",
        "plt.title(\"2-Class classification with Logistic Regression\")\n",
        "plt.xlabel(\"Feature 1\")\n",
        "plt.ylabel(\"Feature 2\")\n",
        "plt.show()\n"
      ]
    },
    {
      "cell_type": "markdown",
      "metadata": {
        "id": "CsM7Jrlz5tkr"
      },
      "source": [
        "Find the expectation and variance values for the two features, broken down by the two classes in the dataset.\n",
        "\n",
        "Specifically, you need to find $E[X_i|Y=0]$ and $E[X_i|Y=0]$ for each $i$. Note that the empirical variance for different classes may be different, use the mean variance instead."
      ]
    },
    {
      "cell_type": "code",
      "execution_count": 36,
      "metadata": {
        "id": "0DATpFZgSC9h"
      },
      "outputs": [
        {
          "name": "stdout",
          "output_type": "stream",
          "text": [
            "Expectation for class 0: [4.0509194  1.89744755]\n",
            "\n",
            "Expectation for class 1: [1.55312576 4.28138001]\n",
            "\n",
            "Mean variance class 0: 0.8340955994213581\n",
            "\n",
            "Mean variance class 1: 0.6907421870152737\n"
          ]
        }
      ],
      "source": [
        "# Your answer here\n",
        "#expectations\n",
        "exp0 = np.mean(X[y==0], axis=0)\n",
        "exp1 = np.mean(X[y==1], axis=0)\n",
        "\n",
        "#mean variances \n",
        "var0 = np.mean(np.var(X[y==0], axis=0))\n",
        "var1 = np.mean(np.var(X[y==1], axis=0))\n",
        "\n",
        "print(f\"Expectation for class 0: {exp0}\\n\\nExpectation for class 1: {exp1}\\n\\nMean variance class 0: {var0}\\n\\nMean variance class 1: {var1}\")"
      ]
    },
    {
      "cell_type": "markdown",
      "metadata": {
        "id": "0XRyykmj8SPa"
      },
      "source": [
        "Can you find the parameters $w_0$, $w_1$, $w_2$ without training the model?\n",
        "\n",
        "Given the parameters $w_0$, $w_1$, $w_2$, plot the line $P(Y=1|X) = 1/2$ with the data points. Does the line seperate the two classes?"
      ]
    },
    {
      "cell_type": "code",
      "execution_count": 38,
      "metadata": {
        "id": "BdCQsDq7ne-8"
      },
      "outputs": [
        {
          "data": {
            "image/png": "[encoded data removed]",
            "text/plain": [
              "<Figure size 640x480 with 1 Axes>"
            ]
          },
          "metadata": {},
          "output_type": "display_data"
        }
      ],
      "source": [
        "# Your answer here\n",
        "p = 0.5\n",
        "\n",
        "w1 = (exp0[0] - exp1[0])/(var0+var1)\n",
        "w2 = (exp0[1] - exp1[1])/(var0+var1)\n",
        "w0 = np.log((1-p)/p) + np.sum(((exp1**2)-(exp1**2)/(2*(var0+var1))))\n",
        "\n",
        "# Plot data points\n",
        "scatter = plt.scatter(X[:, 0], X[:, 1], c=y, edgecolor='k', s=20)\n",
        "plt.title(\"2-Class classification with Logistic Regression\")\n",
        "plt.xlabel(\"Feature 1\")\n",
        "plt.ylabel(\"Feature 2\")\n",
        "\n",
        "# Plot decision boundary line\n",
        "x_values = np.linspace(np.min(X[:, 0]), np.max(X[:, 0]), 100)\n",
        "y_values = -(w1 * x_values + w0) / w2\n",
        "plt.plot(x_values, y_values, color='red', linestyle='--')\n",
        "\n",
        "plt.show()\n"
      ]
    },
    {
      "cell_type": "code",
      "execution_count": null,
      "metadata": {},
      "outputs": [],
      "source": []
    }
  ],
  "metadata": {
    "colab": {
      "provenance": [],
      "toc_visible": true
    },
    "kernelspec": {
      "display_name": "Python 3",
      "name": "python3"
    },
    "language_info": {
      "codemirror_mode": {
        "name": "ipython",
        "version": 3
      },
      "file_extension": ".py",
      "mimetype": "text/x-python",
      "name": "python",
      "nbconvert_exporter": "python",
      "pygments_lexer": "ipython3",
      "version": "3.9.13"
    }
  },
  "nbformat": 4,
  "nbformat_minor": 0
}
